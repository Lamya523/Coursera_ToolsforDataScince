{
 "cells": [
  {
   "cell_type": "markdown",
   "id": "7edb4999-6c2f-4525-9f48-86bc9f20406f",
   "metadata": {},
   "source": [
    "## Lamya's Notebook ##"
   ]
  },
  {
   "cell_type": "markdown",
   "id": "17399a53-13df-4914-961b-79f3d33e00df",
   "metadata": {},
   "source": [
    "# Introduction #\n",
    "This notebook is to deliver my assignment for IBM Course IBM Tools for Data Science"
   ]
  },
  {
   "cell_type": "markdown",
   "id": "48e92452-ae08-4b25-8f11-bae420a2ce2a",
   "metadata": {},
   "source": [
    "# list of data science languages\n",
    "\n",
    "1. Python.\n",
    "2. RStudio.\n",
    "3. SQL."
   ]
  },
  {
   "cell_type": "markdown",
   "id": "054fa023-3249-4ab7-aa79-1f2d081712ea",
   "metadata": {},
   "source": [
    "# list of data scince libraries\n",
    "\n",
    "1. Pandas (Python)\n",
    "2. Numpy (Python)\n",
    "3. Matplotlib (Python)\n",
    "4. Scikit-learn (Python)\n",
    "5. ggplot2  (R)\n",
    "6. dplyr  (R)"
   ]
  },
  {
   "cell_type": "markdown",
   "id": "a4b4c94f-934d-4096-ac7e-5b39f0efd2bd",
   "metadata": {},
   "source": [
    "|Category             |Tool    |\n",
    "|---------------------|--------|\n",
    "|Programming Languages| Python |\n",
    "|Programming Languages| R      |"
   ]
  },
  {
   "cell_type": "markdown",
   "id": "eefdadbc-50c7-494a-b99c-38efdd434a3e",
   "metadata": {},
   "source": [
    "# Calculate weeks in a month code\n",
    " print(\"30/7\")"
   ]
  },
  {
   "cell_type": "code",
   "execution_count": 28,
   "id": "03d79e71-bd7b-4461-949d-d4b5f1ab6447",
   "metadata": {},
   "outputs": [
    {
     "name": "stdout",
     "output_type": "stream",
     "text": [
      "14.0\n"
     ]
    }
   ],
   "source": [
    "print((4*7)/2)"
   ]
  },
  {
   "cell_type": "code",
   "execution_count": 30,
   "id": "b92aa639-9559-4118-8a67-bd64a3384418",
   "metadata": {},
   "outputs": [],
   "source": [
    "def convert_minutes_to_hours(minutes):\n",
    "    hours = minutes / 60\n",
    "    return hours"
   ]
  },
  {
   "cell_type": "code",
   "execution_count": 32,
   "id": "49a8184c-58db-4654-a955-446ce6503e56",
   "metadata": {},
   "outputs": [
    {
     "data": {
      "text/plain": [
       "2.0"
      ]
     },
     "execution_count": 32,
     "metadata": {},
     "output_type": "execute_result"
    }
   ],
   "source": [
    "minutes = 120\n",
    "hours = convert_minutes_to_hours(minutes)\n",
    "hours"
   ]
  },
  {
   "cell_type": "markdown",
   "id": "01154203-fd70-4c9d-b6d5-e8d2ec6ee9ea",
   "metadata": {},
   "source": [
    "## Objectives\n",
    "\n",
    "- Learn the basics of data science\n",
    "- Understand how to manipulate and analyze data\n",
    "- Gain experience with statistical methods\n"
   ]
  },
  {
   "cell_type": "markdown",
   "id": "8737d329-763e-47c4-81af-450ec6f8288a",
   "metadata": {},
   "source": [
    "# Author: Lamya Alm"
   ]
  },
  {
   "cell_type": "code",
   "execution_count": null,
   "id": "fc651371-a01a-4470-a19e-02f727c97193",
   "metadata": {},
   "outputs": [],
   "source": []
  },
  {
   "cell_type": "code",
   "execution_count": null,
   "id": "dabeb029-a11e-4fc7-bfbb-b1ddebb5d07f",
   "metadata": {},
   "outputs": [],
   "source": []
  }
 ],
 "metadata": {
  "kernelspec": {
   "display_name": "Python 3 (ipykernel)",
   "language": "python",
   "name": "python3"
  },
  "language_info": {
   "codemirror_mode": {
    "name": "ipython",
    "version": 3
   },
   "file_extension": ".py",
   "mimetype": "text/x-python",
   "name": "python",
   "nbconvert_exporter": "python",
   "pygments_lexer": "ipython3",
   "version": "3.11.5"
  }
 },
 "nbformat": 4,
 "nbformat_minor": 5
}
